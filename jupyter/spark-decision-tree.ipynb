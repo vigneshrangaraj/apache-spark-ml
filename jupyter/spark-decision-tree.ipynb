{
 "cells": [
  {
   "cell_type": "markdown",
   "metadata": {},
   "source": [
    "# Decision Tree Model with Discrete Values (Classifier)\n",
    "In this example, we are using Spark MLlib library.\n"
   ]
  },
  {
   "cell_type": "code",
   "execution_count": 1,
   "metadata": {},
   "outputs": [],
   "source": [
    "from pyspark.mllib.regression import LabeledPoint\n",
    "from pyspark.mllib.tree import DecisionTree\n",
    "from pyspark import SparkContext, SparkConf, SQLContext\n",
    "from pyspark.sql import SparkSession, Row\n",
    "from numpy import array"
   ]
  },
  {
   "cell_type": "code",
   "execution_count": 2,
   "metadata": {},
   "outputs": [],
   "source": [
    "spark = SparkSession.builder.appName(\"decision-app\").config(\"spark.config.option\", \"value\").getOrCreate()\n",
    "scfg = SparkConf().setAppName('decision-app')\n",
    "sc = spark.sparkContext"
   ]
  },
  {
   "cell_type": "code",
   "execution_count": 3,
   "metadata": {},
   "outputs": [],
   "source": [
    "# converting Y/N into a binary 0 or 1.\n",
    "def binary(YN):\n",
    "    if (YN == 'Y'):\n",
    "        return 1\n",
    "    else:\n",
    "        return 0"
   ]
  },
  {
   "cell_type": "code",
   "execution_count": 4,
   "metadata": {},
   "outputs": [],
   "source": [
    "# converting a degree into a number 0-3\n",
    "def mapEducation(degree):\n",
    "    if (degree == 'BS'):\n",
    "        return 1\n",
    "    elif (degree =='MS'):\n",
    "        return 2\n",
    "    elif (degree == 'PhD'):\n",
    "        return 3\n",
    "    else:\n",
    "        return 0"
   ]
  },
  {
   "cell_type": "code",
   "execution_count": 5,
   "metadata": {},
   "outputs": [],
   "source": [
    "# It is necessary to map datapoints into integer fields ...\n",
    "def createLabeledPoints(fields):\n",
    "    yearsExperience = int(fields[0])\n",
    "    employed = binary(fields[1])\n",
    "    previousEmployers = int(fields[2])\n",
    "    educationLevel = mapEducation(fields[3])\n",
    "    topTier = binary(fields[4])\n",
    "    interned = binary(fields[5])\n",
    "    hired = binary(fields[6])\n",
    "\n",
    "    return LabeledPoint(hired, array([yearsExperience, employed, previousEmployers, educationLevel, topTier, interned]))"
   ]
  },
  {
   "cell_type": "code",
   "execution_count": 6,
   "metadata": {},
   "outputs": [
    {
     "data": {
      "text/plain": [
       "['10,Y,4,BS,N,N,Y',\n",
       " '0,N,0,BS,Y,Y,Y',\n",
       " '7,N,6,BS,N,N,N',\n",
       " '2,Y,1,MS,Y,N,Y',\n",
       " '20,N,2,PhD,Y,N,N',\n",
       " '0,N,0,PhD,Y,Y,Y',\n",
       " '5,Y,2,MS,N,Y,Y',\n",
       " '3,N,1,BS,N,Y,Y',\n",
       " '15,Y,5,BS,N,N,Y',\n",
       " '0,N,0,BS,N,N,N',\n",
       " '1,N,1,PhD,Y,N,N',\n",
       " '4,Y,1,BS,N,Y,Y',\n",
       " '0,N,0,PhD,Y,N,Y']"
      ]
     },
     "execution_count": 6,
     "metadata": {},
     "output_type": "execute_result"
    }
   ],
   "source": [
    "# Loading input / training file / transform into integer values\n",
    "input_file = \"/user/student/PastHires.csv\"\n",
    "raw_data = sc.textFile(input_file)\n",
    "header = raw_data.first()\n",
    "raw_data = raw_data.filter(lambda x:x != header)\n",
    "csv_data = raw_data.map(lambda x: x.split(','))\n",
    "raw_data.collect()"
   ]
  },
  {
   "cell_type": "code",
   "execution_count": 7,
   "metadata": {},
   "outputs": [],
   "source": [
    "# Making training data\n",
    "training_data = csv_data.map(createLabeledPoints)"
   ]
  },
  {
   "cell_type": "code",
   "execution_count": 15,
   "metadata": {},
   "outputs": [],
   "source": [
    "test_candidates = [ \n",
    "    array([10, 1, 3, 1, 0, 0]), \n",
    "    array([20, 0, 2, 3, 1, 0]), \n",
    "    array([39, 1, 2, 1, 0, 0]),\n",
    "    array([5, 1, 3, 1, 0, 1]),\n",
    "    array([1, 0, 1, 0, 1, 1]),\n",
    "    array([0, 1, 3, 0, 1, 1]),\n",
    "    array([29, 1, 3, 0, 1, 0]),\n",
    "    array([10, 0, 3, 0, 1, 1]),\n",
    "    array([40, 1, 2, 0, 1, 0]),\n",
    "    array([0, 1, 3, 1, 1, 1])\n",
    "]\n",
    "# test_candidates = [ array([20, 0, 2, 3, 1, 0])]\n",
    "test_data = sc.parallelize(test_candidates)"
   ]
  },
  {
   "cell_type": "code",
   "execution_count": 16,
   "metadata": {},
   "outputs": [],
   "source": [
    "# decision tree learning model: statistics, data mining & machine learning\n",
    "# gini diversity index\n",
    "model = DecisionTree.trainClassifier(training_data, numClasses=2, \\\n",
    "                                     categoricalFeaturesInfo={1:2, 3:4, 4:2, 5:2}, \\\n",
    "                                     impurity='gini', maxDepth=5, maxBins=32)"
   ]
  },
  {
   "cell_type": "code",
   "execution_count": 17,
   "metadata": {},
   "outputs": [
    {
     "name": "stdout",
     "output_type": "stream",
     "text": [
      "Hire prediction:\n",
      "1.0\n",
      "0.0\n",
      "1.0\n",
      "1.0\n",
      "1.0\n",
      "1.0\n",
      "1.0\n",
      "1.0\n",
      "1.0\n",
      "1.0\n"
     ]
    }
   ],
   "source": [
    "predictions = model.predict(test_data)\n",
    "print('Hire prediction:')\n",
    "results = predictions.collect()\n",
    "for result in results:\n",
    "    print(result)"
   ]
  },
  {
   "cell_type": "code",
   "execution_count": 18,
   "metadata": {},
   "outputs": [
    {
     "name": "stdout",
     "output_type": "stream",
     "text": [
      "Learned classification tree model:\n",
      "DecisionTreeModel classifier of depth 4 with 9 nodes\n",
      "  If (feature 1 in {0.0})\n",
      "   If (feature 5 in {0.0})\n",
      "    If (feature 0 <= 0.5)\n",
      "     If (feature 3 in {1.0})\n",
      "      Predict: 0.0\n",
      "     Else (feature 3 not in {1.0})\n",
      "      Predict: 1.0\n",
      "    Else (feature 0 > 0.5)\n",
      "     Predict: 0.0\n",
      "   Else (feature 5 not in {0.0})\n",
      "    Predict: 1.0\n",
      "  Else (feature 1 not in {0.0})\n",
      "   Predict: 1.0\n",
      "\n"
     ]
    }
   ],
   "source": [
    "print('Learned classification tree model:')\n",
    "print(model.toDebugString())"
   ]
  },
  {
   "cell_type": "code",
   "execution_count": null,
   "metadata": {},
   "outputs": [],
   "source": []
  },
  {
   "cell_type": "code",
   "execution_count": null,
   "metadata": {},
   "outputs": [],
   "source": []
  }
 ],
 "metadata": {
  "kernelspec": {
   "display_name": "Python 3",
   "language": "python",
   "name": "python3"
  },
  "language_info": {
   "codemirror_mode": {
    "name": "ipython",
    "version": 3
   },
   "file_extension": ".py",
   "mimetype": "text/x-python",
   "name": "python",
   "nbconvert_exporter": "python",
   "pygments_lexer": "ipython3",
   "version": "3.6.9"
  }
 },
 "nbformat": 4,
 "nbformat_minor": 2
}
